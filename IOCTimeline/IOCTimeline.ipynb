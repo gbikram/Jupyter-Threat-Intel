{
 "cells": [
  {
   "cell_type": "markdown",
   "metadata": {},
   "source": [
    "## Setup Requirements"
   ]
  },
  {
   "cell_type": "code",
   "execution_count": 4,
   "metadata": {},
   "outputs": [],
   "source": [
    "%%capture\n",
    "\n",
    "import json\n",
    "import virustotal3.core as vt3core\n",
    "from dotenv import load_dotenv\n",
    "import os\n",
    "import csv\n",
    "import time\n",
    "import datetime\n",
    "\n",
    "load_dotenv()\n",
    "\n",
    "VT_API = os.getenv('VT_API')\n",
    "vtcore_files = vt3core.Files(VT_API)\n",
    "vtcore_domains = vt3core.Domains(VT_API)\n",
    "\n",
    "collected_data_dir = './collected_data'\n",
    "input_file = './indicators.csv'\n",
    "timeline_csv = './timeline.csv'\n",
    "dates = []"
   ]
  },
  {
   "cell_type": "markdown",
   "metadata": {},
   "source": [
    "## Get Data from VirusTotal"
   ]
  },
  {
   "cell_type": "code",
   "execution_count": 6,
   "metadata": {},
   "outputs": [
    {
     "name": "stdout",
     "output_type": "stream",
     "text": [
      "Getting data from VirusTotal for ce21319bd21f76ab0f188a514e8ab1fe6f960c257475e45a23d11125d78df428\n",
      "Getting data from VirusTotal for avsvmcloud.com\n"
     ]
    }
   ],
   "source": [
    "# Read indicator records from input CSV file\n",
    "csv_file = open(input_file, 'r')\n",
    "csv_file_records = csv.DictReader(csv_file)\n",
    "\n",
    "for record in csv_file_records:\n",
    "    record_type = record['Type']\n",
    "    record_value = record['Value']\n",
    "    \n",
    "    record_out_path = '{0}/{1}.json'.format(collected_data_dir, record_value)\n",
    "    \n",
    "    print(\"Getting data from VirusTotal for \" + record_value)\n",
    "\n",
    "    # Query VT and save indicator info if data does not exist\n",
    "    if(os.path.exists(record_out_path) == False):\n",
    "        \n",
    "        if(record_type == 'File'):\n",
    "            record_info = vtcore_files.info_file(record_value)\n",
    "        elif(record_type == 'Host'):\n",
    "            record_info = vtcore_domains.info_domain(record_value)\n",
    "        \n",
    "        with open(record_out_path, 'w+') as out_data:\n",
    "            out_data.write(json.dumps(record_info, indent=2))\n",
    "\n",
    "    # Parse indicator data file for dates\n",
    "    with open(record_out_path) as record_file:\n",
    "        record_info_all = json.loads(record_file.read())\n",
    "        record_info_data = record_info_all['data']['attributes']\n",
    "\n",
    "        # Add dates for indicator to timeline file\n",
    "        with open(timeline_csv, 'a+') as timeline_file:\n",
    "            timeline_writer = csv.writer(timeline_file)\n",
    "\n",
    "            creation_date = datetime.datetime.fromtimestamp(record_info_data['creation_date'])\n",
    "            modification_date = datetime.datetime.fromtimestamp(record_info_data['last_modification_date'])\n",
    "\n",
    "\n",
    "            timeline_writer.writerow([record_value, 'Creation Date', creation_date])\n",
    "            timeline_writer.writerow([record_value, 'Last Modification Date', modification_date])\n",
    "\n",
    "            if(record_type == 'File'):\n",
    "                submission_date = datetime.datetime.fromtimestamp(record_info_data['first_submission_date'])\n",
    "                timeline_writer.writerow([record_value, 'First Submission Date', submission_date])\n",
    "\n",
    "    # time.sleep(60)\n",
    "                    \n",
    "csv_file.close()"
   ]
  },
  {
   "cell_type": "markdown",
   "metadata": {},
   "source": [
    "## Print Saved Dates"
   ]
  },
  {
   "cell_type": "code",
   "execution_count": 9,
   "metadata": {},
   "outputs": [
    {
     "data": {
      "text/html": [
       "<div>\n",
       "<style scoped>\n",
       "    .dataframe tbody tr th:only-of-type {\n",
       "        vertical-align: middle;\n",
       "    }\n",
       "\n",
       "    .dataframe tbody tr th {\n",
       "        vertical-align: top;\n",
       "    }\n",
       "\n",
       "    .dataframe thead th {\n",
       "        text-align: right;\n",
       "    }\n",
       "</style>\n",
       "<table border=\"1\" class=\"dataframe\">\n",
       "  <thead>\n",
       "    <tr style=\"text-align: right;\">\n",
       "      <th></th>\n",
       "      <th>IOC</th>\n",
       "      <th>Date Type</th>\n",
       "      <th>Date</th>\n",
       "    </tr>\n",
       "  </thead>\n",
       "  <tbody>\n",
       "    <tr>\n",
       "      <th>3</th>\n",
       "      <td>avsvmcloud.com</td>\n",
       "      <td>Creation Date</td>\n",
       "      <td>2018-07-25 04:38:29</td>\n",
       "    </tr>\n",
       "    <tr>\n",
       "      <th>0</th>\n",
       "      <td>ce21319bd21f76ab0f188a514e8ab1fe6f960c257475e4...</td>\n",
       "      <td>Creation Date</td>\n",
       "      <td>2019-12-23 05:10:01</td>\n",
       "    </tr>\n",
       "    <tr>\n",
       "      <th>2</th>\n",
       "      <td>ce21319bd21f76ab0f188a514e8ab1fe6f960c257475e4...</td>\n",
       "      <td>First Submission Date</td>\n",
       "      <td>2021-05-06 06:14:47</td>\n",
       "    </tr>\n",
       "    <tr>\n",
       "      <th>1</th>\n",
       "      <td>ce21319bd21f76ab0f188a514e8ab1fe6f960c257475e4...</td>\n",
       "      <td>Last Modification Date</td>\n",
       "      <td>2021-10-03 16:25:05</td>\n",
       "    </tr>\n",
       "    <tr>\n",
       "      <th>4</th>\n",
       "      <td>avsvmcloud.com</td>\n",
       "      <td>Last Modification Date</td>\n",
       "      <td>2021-11-07 06:36:55</td>\n",
       "    </tr>\n",
       "  </tbody>\n",
       "</table>\n",
       "</div>"
      ],
      "text/plain": [
       "                                                 IOC               Date Type  \\\n",
       "3                                     avsvmcloud.com           Creation Date   \n",
       "0  ce21319bd21f76ab0f188a514e8ab1fe6f960c257475e4...           Creation Date   \n",
       "2  ce21319bd21f76ab0f188a514e8ab1fe6f960c257475e4...   First Submission Date   \n",
       "1  ce21319bd21f76ab0f188a514e8ab1fe6f960c257475e4...  Last Modification Date   \n",
       "4                                     avsvmcloud.com  Last Modification Date   \n",
       "\n",
       "                  Date  \n",
       "3  2018-07-25 04:38:29  \n",
       "0  2019-12-23 05:10:01  \n",
       "2  2021-05-06 06:14:47  \n",
       "1  2021-10-03 16:25:05  \n",
       "4  2021-11-07 06:36:55  "
      ]
     },
     "execution_count": 9,
     "metadata": {},
     "output_type": "execute_result"
    }
   ],
   "source": [
    "import pandas as pd\n",
    "\n",
    "df = pd.read_csv(timeline_csv, sep=\",\", names=[\"IOC\", \"Date Type\", \"Date\"])\n",
    "\n",
    "df.sort_values(by=['Date'])"
   ]
  },
  {
   "cell_type": "code",
   "execution_count": null,
   "metadata": {},
   "outputs": [],
   "source": []
  }
 ],
 "metadata": {
  "interpreter": {
   "hash": "e7370f93d1d0cde622a1f8e1c04877d8463912d04d973331ad4851f04de6915a"
  },
  "kernelspec": {
   "display_name": "Python 3.9.7 64-bit",
   "name": "python3"
  },
  "language_info": {
   "codemirror_mode": {
    "name": "ipython",
    "version": 3
   },
   "file_extension": ".py",
   "mimetype": "text/x-python",
   "name": "python",
   "nbconvert_exporter": "python",
   "pygments_lexer": "ipython3",
   "version": "3.9.7"
  },
  "orig_nbformat": 4
 },
 "nbformat": 4,
 "nbformat_minor": 2
}
