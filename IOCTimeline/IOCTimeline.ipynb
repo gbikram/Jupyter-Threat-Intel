{
 "cells": [
  {
   "cell_type": "markdown",
   "metadata": {},
   "source": [
    "## Setup Requirements"
   ]
  },
  {
   "cell_type": "code",
   "execution_count": 1,
   "metadata": {},
   "outputs": [],
   "source": [
    "%%capture\n",
    "\n",
    "import json\n",
    "import virustotal3.core as vt3core\n",
    "from dotenv import load_dotenv\n",
    "import os\n",
    "import csv\n",
    "import time\n",
    "import datetime\n",
    "\n",
    "load_dotenv()\n",
    "\n",
    "VT_API = os.getenv('VT_API')\n",
    "vtcore_files = vt3core.Files(VT_API)\n",
    "vtcore_domains = vt3core.Domains(VT_API)\n",
    "\n",
    "collected_data_dir = './collected_data'\n",
    "input_file = './indicators.csv'\n",
    "timeline_csv = './timeline.csv'\n",
    "dates = []"
   ]
  },
  {
   "cell_type": "markdown",
   "metadata": {},
   "source": [
    "## Get Data from VirusTotal"
   ]
  },
  {
   "cell_type": "code",
   "execution_count": 2,
   "metadata": {},
   "outputs": [
    {
     "name": "stdout",
     "output_type": "stream",
     "text": [
      "Getting data from VirusTotal for ce21319bd21f76ab0f188a514e8ab1fe6f960c257475e45a23d11125d78df428\n",
      "\n",
      "Getting data from VirusTotal for avsvmcloud.com\n",
      "\n"
     ]
    }
   ],
   "source": [
    "# Read indicator records from input CSV file\n",
    "csv_file = open(input_file, 'r')\n",
    "csv_file_records = csv.DictReader(csv_file)\n",
    "\n",
    "for record in csv_file_records:\n",
    "    record_type = record['Type']\n",
    "    record_value = record['Value']\n",
    "    \n",
    "    record_out_path = '{0}/{1}.json'.format(collected_data_dir, record_value)\n",
    "    \n",
    "    print(\"Getting data from VirusTotal for \" + record_value)\n",
    "    print()\n",
    "\n",
    "    # Query VT and save indicator info if data does not exist\n",
    "    if(os.path.exists(record_out_path) == False):\n",
    "        \n",
    "        if(record_type == 'File'):\n",
    "            record_info = vtcore_files.info_file(record_value)\n",
    "        elif(record_type == 'Host'):\n",
    "            record_info = vtcore_domains.info_domain(record_value)\n",
    "        \n",
    "        with open(record_out_path, 'w+') as out_data:\n",
    "            out_data.write(json.dumps(record_info, indent=2))\n",
    "\n",
    "    # Parse indicator data file for dates\n",
    "    with open(record_out_path) as record_file:\n",
    "        record_info_all = json.loads(record_file.read())\n",
    "        record_info_data = record_info_all['data']['attributes']\n",
    "\n",
    "        # Add dates for indicator to timeline file\n",
    "        with open(timeline_csv, 'a+') as timeline_file:\n",
    "            timeline_writer = csv.writer(timeline_file)\n",
    "\n",
    "            creation_date = datetime.datetime.fromtimestamp(record_info_data['creation_date'])\n",
    "            modification_date = datetime.datetime.fromtimestamp(record_info_data['last_modification_date'])\n",
    "\n",
    "\n",
    "            timeline_writer.writerow([record_value, 'Creation Date', creation_date])\n",
    "            timeline_writer.writerow([record_value, 'Last Modification Date', modification_date])\n",
    "\n",
    "            if(record_type == 'File'):\n",
    "                submission_date = datetime.datetime.fromtimestamp(record_info_data['first_submission_date'])\n",
    "                timeline_writer.writerow([record_value, 'First Submission Date', submission_date])\n",
    "\n",
    "    # time.sleep(60)\n",
    "                    \n",
    "csv_file.close()"
   ]
  }
 ],
 "metadata": {
  "interpreter": {
   "hash": "e7370f93d1d0cde622a1f8e1c04877d8463912d04d973331ad4851f04de6915a"
  },
  "kernelspec": {
   "display_name": "Python 3.9.7 64-bit",
   "name": "python3"
  },
  "language_info": {
   "codemirror_mode": {
    "name": "ipython",
    "version": 3
   },
   "file_extension": ".py",
   "mimetype": "text/x-python",
   "name": "python",
   "nbconvert_exporter": "python",
   "pygments_lexer": "ipython3",
   "version": "3.9.7"
  },
  "orig_nbformat": 4
 },
 "nbformat": 4,
 "nbformat_minor": 2
}
